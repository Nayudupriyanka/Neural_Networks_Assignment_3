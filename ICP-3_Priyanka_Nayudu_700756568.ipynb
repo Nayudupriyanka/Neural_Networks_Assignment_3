{
 "cells": [
  {
   "cell_type": "code",
   "execution_count": 8,
   "id": "db217038",
   "metadata": {},
   "outputs": [
    {
     "name": "stdout",
     "output_type": "stream",
     "text": [
      "Employee Details: \n",
      "Kalyan Kottipalli 70000 IT None\n",
      "Srinivas sankerpalli 75000 Frontend None\n",
      "Priyaka Nayudu 100000 Finance True\n",
      "\n",
      "Total Employees: 3\n",
      "Average Salary: 81666.66666666667\n"
     ]
    }
   ],
   "source": [
    "'''1. Create a class Employee and then do the following\n",
    "• Create a data member to count the number of Employees\n",
    "• Create a constructor to initialize name, family, salary, department\n",
    "• Create a function to average salary\n",
    "• Create a Fulltime Employee class and it should inherit the properties of Employee class\n",
    "• Create the instances of Fulltime Employee class and Employee class and call their member functions.'''\n",
    "\n",
    "class Employee:\n",
    "    employee_count = 0\n",
    "    benefits = None\n",
    "    def __init__(self,name,family,salary,department):\n",
    "        self.name = name\n",
    "        self.family = family\n",
    "        self.salary = salary\n",
    "        self.department = department\n",
    "        Employee.employee_count+=1\n",
    "\n",
    "    def avg_salary(employees):\n",
    "        total_salary = sum(emp.salary for emp in employees)\n",
    "        return total_salary/len(employees)\n",
    "\n",
    "class Fulltime_Employee(Employee):\n",
    "    def __init__(self, name, family, salary, department, benefits):\n",
    "        super().__init__(name, family, salary, department)\n",
    "        self.benefits = benefits\n",
    "\n",
    "\n",
    "if __name__=='__main__':\n",
    "    emp1 = Employee('Kalyan','Kottipalli',70000,'IT')\n",
    "    emp2 = Employee('Srinivas','sankerpalli',75000,'Frontend')\n",
    "    emp3 = Fulltime_Employee('Priyaka','Nayudu',100000,'Finance',True)\n",
    "\n",
    "    employees = [emp1,emp2,emp3]\n",
    "    print(\"Employee Details: \")\n",
    "    for emp in employees:\n",
    "        print(emp.name,emp.family, emp.salary, emp.department, emp.benefits)\n",
    "\n",
    "    print(\"\\nTotal Employees:\", Employee.employee_count)\n",
    "    print(\"Average Salary:\", Employee.avg_salary(employees))"
   ]
  },
  {
   "cell_type": "code",
   "execution_count": 9,
   "id": "67de05af",
   "metadata": {},
   "outputs": [
    {
     "name": "stdout",
     "output_type": "stream",
     "text": [
      "Original Vector Array: \n",
      "\n",
      "[ 7.02413166  8.39874579 11.3867274   1.27049852 19.91885051 16.99222551\n",
      "  9.31824152 13.56328609  8.60397812  8.89537539  5.68250092  4.92287738\n",
      " 14.18451519  4.91635725 10.80611278 18.24983758  9.58486012  4.17934016\n",
      "  3.07776898  6.8901238 ]\n",
      "\n",
      "Reshaped Array with 0 replacing the max in each row: \n",
      "\n",
      "[[ 7.02413166  8.39874579 11.3867274   1.27049852  0.        ]\n",
      " [ 0.          9.31824152 13.56328609  8.60397812  8.89537539]\n",
      " [ 5.68250092  4.92287738  0.          4.91635725 10.80611278]\n",
      " [ 0.          9.58486012  4.17934016  3.07776898  6.8901238 ]]\n"
     ]
    }
   ],
   "source": [
    "'''2. Numpy\n",
    "Using NumPy create random vector of size 20 having only float in the range 1-20.\n",
    "Then reshape the array to 4 by 5\n",
    "Then replace the max in each row by 0 (axis=1)\n",
    "(you can NOT implement it via for loop)'''\n",
    "\n",
    "import numpy as np\n",
    "random_vector = np.random.uniform(1,20,20)\n",
    "reshaped_array = random_vector.copy().reshape(4,5)\n",
    "max_indices = reshaped_array.argmax(axis=1)\n",
    "reshaped_array[np.arange(reshaped_array.shape[0]),max_indices] = 0\n",
    "\n",
    "print(\"Original Vector Array: \\n\")\n",
    "print(random_vector)\n",
    "print(\"\\nReshaped Array with 0 replacing the max in each row: \\n\")\n",
    "print(reshaped_array)"
   ]
  },
  {
   "cell_type": "code",
   "execution_count": null,
   "id": "d0e1c7ce",
   "metadata": {},
   "outputs": [],
   "source": []
  }
 ],
 "metadata": {
  "kernelspec": {
   "display_name": "Python 3 (ipykernel)",
   "language": "python",
   "name": "python3"
  },
  "language_info": {
   "codemirror_mode": {
    "name": "ipython",
    "version": 3
   },
   "file_extension": ".py",
   "mimetype": "text/x-python",
   "name": "python",
   "nbconvert_exporter": "python",
   "pygments_lexer": "ipython3",
   "version": "3.11.5"
  }
 },
 "nbformat": 4,
 "nbformat_minor": 5
}
